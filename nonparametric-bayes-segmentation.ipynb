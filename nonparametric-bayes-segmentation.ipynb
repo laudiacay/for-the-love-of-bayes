{
  "nbformat": 4,
  "nbformat_minor": 0,
  "metadata": {
    "colab": {
      "name": "NLPhw5.ipynb",
      "provenance": [],
      "collapsed_sections": []
    },
    "kernelspec": {
      "name": "python3",
      "display_name": "Python 3"
    }
  },
  "cells": [
    {
      "cell_type": "markdown",
      "metadata": {
        "id": "bKBnUuy9zAk5"
      },
      "source": [
        "# Assignment 5: Nonparametric Bayesian Segmentation"
      ]
    },
    {
      "cell_type": "markdown",
      "metadata": {
        "id": "yGkMuDkXzFDT"
      },
      "source": [
        "## Setup\n"
      ]
    },
    {
      "cell_type": "markdown",
      "metadata": {
        "id": "95UCDK9xzaMp"
      },
      "source": [
        "Downloading data"
      ]
    },
    {
      "cell_type": "code",
      "metadata": {
        "id": "4tEvxqUtyw2w"
      },
      "source": [
        "# from https://medium.com/@Keshav31/colab-features-download-and-upload-e1ec537a83df\n",
        "from urllib.request import urlretrieve\n",
        "import os\n",
        "from zipfile import ZipFile\n",
        "\n",
        "url = 'https://ttic.uchicago.edu/~kgimpel/teaching/31210-s19/data/31210-s19-hw5.zip'\n",
        "file = '31210-s19-hw5.zip'\n",
        "\n",
        "if not os.path.isfile(file):\n",
        "    urlretrieve(url,file)\n",
        "\n",
        "with ZipFile(file) as zipf:\n",
        "    zipf.extractall()\n",
        "\n",
        "!rm -rf data/\n",
        "!mkdir data/\n",
        "!mv 31210-s19-hw5/* data/\n",
        "!rm -rf 31210-s19-hw5.zip 31210-s19-hw5/"
      ],
      "execution_count": null,
      "outputs": []
    },
    {
      "cell_type": "markdown",
      "metadata": {
        "id": "pr9RyaXP36OR"
      },
      "source": [
        "Parsing in data"
      ]
    },
    {
      "cell_type": "code",
      "metadata": {
        "id": "ILgZq3CG35nf",
        "outputId": "75f5731a-4394-4919-c69a-e3a44112e089",
        "colab": {
          "base_uri": "https://localhost:8080/",
          "height": 52
        }
      },
      "source": [
        "with open('data/cbt-characters.txt') as f:\n",
        "    sentences = f.readlines()\n",
        "    sentences = [s.strip() for s in sentences]\n",
        "\n",
        "with open('data/cbt-boundaries.txt') as f:\n",
        "    gs_boundaries = f.readlines()\n",
        "    gs_boundaries = [b.strip() for b in gs_boundaries]\n",
        "\n",
        "    \n",
        "assert len(sentences) == len(gs_boundaries)\n",
        "for b in gs_boundaries:\n",
        "    for bi in b:\n",
        "        assert bi in ['0', '1']\n",
        "        \n",
        "# build character set for p_char\n",
        "char_set = set()\n",
        "for s in sentences:\n",
        "    for l in s:\n",
        "        char_set.add(l)\n",
        "\n",
        "print('sentences loaded and validated.')\n",
        "print(f'{len(char_set)} characters found.')"
      ],
      "execution_count": null,
      "outputs": [
        {
          "output_type": "stream",
          "text": [
            "sentences loaded and validated.\n",
            "54 characters found.\n"
          ],
          "name": "stdout"
        }
      ]
    },
    {
      "cell_type": "markdown",
      "metadata": {
        "id": "eLxo6amn6ZWQ"
      },
      "source": [
        "Calculate BPA for unsegmented corpus"
      ]
    },
    {
      "cell_type": "code",
      "metadata": {
        "id": "xr1rc9-D5WJW",
        "outputId": "b3ded7e8-99b2-4472-cbd3-649d10b6db83",
        "colab": {
          "base_uri": "https://localhost:8080/",
          "height": 34
        }
      },
      "source": [
        "def calc_bpa(gs_boundaries, boundaries):\n",
        "    assert len(gs_boundaries) == len(boundaries)\n",
        "    bound_ctr = 0\n",
        "    correct = 0\n",
        "    total = 0\n",
        "    for sent_ix in range(len(sentences)):\n",
        "        for char in range(len(sentences[sent_ix][:-1])):\n",
        "            total += 1\n",
        "            correct += int(boundaries[sent_ix][char] == gs_boundaries[sent_ix][char])\n",
        "        bound_ctr += 1\n",
        "    return correct/total\n",
        "        \n",
        "unseg_boundaries = [['0' for _ in sent[:-1]] + ['1'] for sent in sentences]\n",
        "print(f'unsegmented BPA: {calc_bpa(gs_boundaries, unseg_boundaries)}')"
      ],
      "execution_count": null,
      "outputs": [
        {
          "output_type": "stream",
          "text": [
            "unsegmented BPA: 0.7327530010591656\n"
          ],
          "name": "stdout"
        }
      ]
    },
    {
      "cell_type": "markdown",
      "metadata": {
        "id": "wdDVO7UEIf7N"
      },
      "source": [
        "## 1. Gibbs Sampling Implementation"
      ]
    },
    {
      "cell_type": "code",
      "metadata": {
        "id": "LpJdy1ub6IvL",
        "outputId": "9dd6a535-df1d-4af4-d4b2-ae2a26b82dba",
        "colab": {
          "base_uri": "https://localhost:8080/",
          "height": 34
        }
      },
      "source": [
        "import collections\n",
        "\n",
        "TOT_TOK = '___TOTAL___'\n",
        "\n",
        "char_probs = {l: 1/len(char_set) for l in char_set}\n",
        "G_0_memo = {}\n",
        "\n",
        "def G_0(y, BETA):\n",
        "    global char_probs\n",
        "    if (y, BETA) in G_0_memo:\n",
        "        return G_0_memo[(y, BETA)]\n",
        "    ret = (1-BETA)**(len(y) - 1) * BETA\n",
        "    for y_i in y:\n",
        "        ret *= char_probs[y_i]\n",
        "    G_0_memo[(y, BETA)] = ret\n",
        "    return ret\n",
        "\n",
        "def initialize_seg_counts(sentences, boundaries):\n",
        "    counter = collections.Counter() \n",
        "    for sx, sent in enumerate(sentences):\n",
        "        start_idx = 0\n",
        "        for i in range(len(sent)):\n",
        "            if boundaries[sx][i] == '1':\n",
        "                counter[sent[start_idx:i+1]] += 1\n",
        "                counter[TOT_TOK] += 1\n",
        "                start_idx = i+1\n",
        "    return counter\n",
        "\n",
        "# testing segment counter\n",
        "print(initialize_seg_counts(['thecowsaysmoo'], [['0','0','1','0','0','1','0','0','0','1','0','0','1']]))"
      ],
      "execution_count": null,
      "outputs": [
        {
          "output_type": "stream",
          "text": [
            "Counter({'___TOTAL___': 4, 'the': 1, 'cow': 1, 'says': 1, 'moo': 1})\n"
          ],
          "name": "stdout"
        }
      ]
    },
    {
      "cell_type": "code",
      "metadata": {
        "id": "8fgJ8v8T-ZlM",
        "outputId": "15a57bd7-1316-4e2d-9607-1382f585b7bf",
        "colab": {
          "base_uri": "https://localhost:8080/",
          "height": 385
        }
      },
      "source": [
        "import random\n",
        "\n",
        "def choose_new_value(sentences, boundaries, counts, s_ix, b_ix, s, BETA, GAMMA):\n",
        "    y_full_start = 0\n",
        "        \n",
        "    sentences = sentences[s_ix]\n",
        "    cur_bnd = boundaries[s_ix]\n",
        "    for i in range(b_ix-1, -1, -1):\n",
        "        if cur_bnd[i] == 1:\n",
        "            y_full_start = i + 1\n",
        "            break\n",
        "    y_full_stop = len(sentences)\n",
        "    for i in range(b_ix+1, len(sentences)):\n",
        "        if cur_bnd[i] == 1:\n",
        "            y_full_stop = i + 1\n",
        "            break\n",
        "    \n",
        "    y_full = sentences[y_full_start:y_full_stop + 1]\n",
        "    y_prev = sentences[y_full_start:b_ix + 1]\n",
        "    y_next = sentences[b_ix + 1:y_full_stop + 1]\n",
        "    \n",
        "    old_bi = cur_bnd[b_ix]\n",
        "    \n",
        "    if old_bi == 1:\n",
        "        n_y_prev = counts[y_prev] - 1\n",
        "        n_y_next = counts[y_next] - 1\n",
        "        n_y_full = counts[y_full]\n",
        "        n_y_total = counts[TOT_TOK] - 2\n",
        "    else:\n",
        "        n_y_prev = counts[y_prev]\n",
        "        n_y_next = counts[y_next]\n",
        "        n_y_full = counts[y_full] - 1\n",
        "        n_y_total = counts[TOT_TOK] - 1\n",
        "    \n",
        "    p_bi_0 = (n_y_full + s*G_0(y_full, BETA)) / (n_y_total + s)\n",
        "    p_bi_1 = (n_y_prev + s*G_0(y_prev, BETA))\\\n",
        "                * (1 - GAMMA)\\\n",
        "                * (n_y_next + int(y_prev == y_next) + s*G_0(y_next, BETA))\\\n",
        "                / ((n_y_total + s) * (n_y_total + 1 + s))\n",
        "    \n",
        "    \n",
        "    new_bi = str(int(random.random() * (p_bi_0 + p_bi_1) < p_bi_0))[0]\n",
        "    \n",
        "    boundaries[s_ix][b_ix] = new_bi\n",
        "    \n",
        "    if old_bi == new_bi:\n",
        "        return 0, boundaries\n",
        "    elif old_bi == 1 and new_bi == 0:\n",
        "        counts[y_full] += 1\n",
        "        counts[y_prev] -= 1\n",
        "        counts[y_next] -= 1\n",
        "        counts[TOT_TOK] -= 1\n",
        "    elif old_bi == 0 and new_bi == 1:\n",
        "        counts[y_full] -= 1\n",
        "        counts[y_prev] += 1\n",
        "        counts[y_next] += 1\n",
        "        counts[TOT_TOK] += 1\n",
        "\n",
        "    return 1, boundaries\n",
        "    \n",
        "    \n",
        "def gibbs_samp_iter(sentences, cur_boundaries, counts, s, BETA, GAMMA, n):\n",
        "    nbc = 0\n",
        "    for s_ix in range(len(sentences)):\n",
        "        for b_ix in range(len(sentences[s_ix]) - 1):\n",
        "            ct, cur_boundaries = choose_new_value(sentences, cur_boundaries, \n",
        "                         counts, s_ix, b_ix, s, BETA, GAMMA)\n",
        "            nbc += ct\n",
        "    print(f'finished iteration {n}')\n",
        "    print(f'    BPA: {calc_bpa(gs_boundaries, cur_boundaries)}')\n",
        "    print(f'    NBC: {nbc}')\n",
        "    return cur_boundaries\n",
        "            \n",
        "    \n",
        "def gibbs_init(sentences, GAMMA):\n",
        "    bdys = []\n",
        "    for sent in sentences:\n",
        "        bdys += [[str(int(random.random() < GAMMA))[0] for _ in sent[:-1]] + ['1']]\n",
        "    return bdys\n",
        "    \n",
        "\n",
        "N_ITERS = 5\n",
        "final_bpa_hypers = {}\n",
        "def gibbs_train(sentences, gs_boundaries, s, BETA, GAMMA):\n",
        "    if (s, BETA, GAMMA) in final_bpa_hypers:\n",
        "        return\n",
        "    cur_boundaries = gibbs_init(sentences, GAMMA)\n",
        "    counts = initialize_seg_counts(sentences, cur_boundaries)\n",
        "    for n in range(1, N_ITERS+1):\n",
        "        cur_boundaries = gibbs_samp_iter(sentences, cur_boundaries, counts, s, BETA, GAMMA, n)\n",
        "    final_bpa_hypers[(s,BETA,GAMMA)] = calc_bpa(gs_boundaries, cur_boundaries)\n",
        "    return cur_boundaries\n",
        "\n",
        "gibbs_train(sentences, gs_boundaries, 0.2, 0.5, 0.2)\n",
        "# this ends up stablizing around 73.2% accuracy."
      ],
      "execution_count": null,
      "outputs": [
        {
          "output_type": "error",
          "ename": "KeyboardInterrupt",
          "evalue": "ignored",
          "traceback": [
            "\u001b[0;31m---------------------------------------------------------------------------\u001b[0m",
            "\u001b[0;31mKeyboardInterrupt\u001b[0m                         Traceback (most recent call last)",
            "\u001b[0;32m<ipython-input-58-4bc6df93f7eb>\u001b[0m in \u001b[0;36m<module>\u001b[0;34m()\u001b[0m\n\u001b[1;32m     89\u001b[0m     \u001b[0;32mreturn\u001b[0m \u001b[0mcur_boundaries\u001b[0m\u001b[0;34m\u001b[0m\u001b[0;34m\u001b[0m\u001b[0m\n\u001b[1;32m     90\u001b[0m \u001b[0;34m\u001b[0m\u001b[0m\n\u001b[0;32m---> 91\u001b[0;31m \u001b[0mgibbs_train\u001b[0m\u001b[0;34m(\u001b[0m\u001b[0msentences\u001b[0m\u001b[0;34m,\u001b[0m \u001b[0mgs_boundaries\u001b[0m\u001b[0;34m,\u001b[0m \u001b[0;36m0.2\u001b[0m\u001b[0;34m,\u001b[0m \u001b[0;36m0.5\u001b[0m\u001b[0;34m,\u001b[0m \u001b[0;36m0.2\u001b[0m\u001b[0;34m)\u001b[0m\u001b[0;34m\u001b[0m\u001b[0;34m\u001b[0m\u001b[0m\n\u001b[0m\u001b[1;32m     92\u001b[0m \u001b[0;31m# this ends up stablizing around 73.2% accuracy.\u001b[0m\u001b[0;34m\u001b[0m\u001b[0;34m\u001b[0m\u001b[0;34m\u001b[0m\u001b[0m\n",
            "\u001b[0;32m<ipython-input-58-4bc6df93f7eb>\u001b[0m in \u001b[0;36mgibbs_train\u001b[0;34m(sentences, gs_boundaries, s, BETA, GAMMA)\u001b[0m\n\u001b[1;32m     85\u001b[0m     \u001b[0mcounts\u001b[0m \u001b[0;34m=\u001b[0m \u001b[0minitialize_seg_counts\u001b[0m\u001b[0;34m(\u001b[0m\u001b[0msentences\u001b[0m\u001b[0;34m,\u001b[0m \u001b[0mcur_boundaries\u001b[0m\u001b[0;34m)\u001b[0m\u001b[0;34m\u001b[0m\u001b[0;34m\u001b[0m\u001b[0m\n\u001b[1;32m     86\u001b[0m     \u001b[0;32mfor\u001b[0m \u001b[0mn\u001b[0m \u001b[0;32min\u001b[0m \u001b[0mrange\u001b[0m\u001b[0;34m(\u001b[0m\u001b[0;36m1\u001b[0m\u001b[0;34m,\u001b[0m \u001b[0mN_ITERS\u001b[0m\u001b[0;34m+\u001b[0m\u001b[0;36m1\u001b[0m\u001b[0;34m)\u001b[0m\u001b[0;34m:\u001b[0m\u001b[0;34m\u001b[0m\u001b[0;34m\u001b[0m\u001b[0m\n\u001b[0;32m---> 87\u001b[0;31m         \u001b[0mcur_boundaries\u001b[0m \u001b[0;34m=\u001b[0m \u001b[0mgibbs_samp_iter\u001b[0m\u001b[0;34m(\u001b[0m\u001b[0msentences\u001b[0m\u001b[0;34m,\u001b[0m \u001b[0mcur_boundaries\u001b[0m\u001b[0;34m,\u001b[0m \u001b[0mcounts\u001b[0m\u001b[0;34m,\u001b[0m \u001b[0ms\u001b[0m\u001b[0;34m,\u001b[0m \u001b[0mBETA\u001b[0m\u001b[0;34m,\u001b[0m \u001b[0mGAMMA\u001b[0m\u001b[0;34m,\u001b[0m \u001b[0mn\u001b[0m\u001b[0;34m)\u001b[0m\u001b[0;34m\u001b[0m\u001b[0;34m\u001b[0m\u001b[0m\n\u001b[0m\u001b[1;32m     88\u001b[0m     \u001b[0mfinal_bpa_hypers\u001b[0m\u001b[0;34m[\u001b[0m\u001b[0;34m(\u001b[0m\u001b[0ms\u001b[0m\u001b[0;34m,\u001b[0m\u001b[0mBETA\u001b[0m\u001b[0;34m,\u001b[0m\u001b[0mGAMMA\u001b[0m\u001b[0;34m)\u001b[0m\u001b[0;34m]\u001b[0m \u001b[0;34m=\u001b[0m \u001b[0mcalc_bpa\u001b[0m\u001b[0;34m(\u001b[0m\u001b[0mgs_boundaries\u001b[0m\u001b[0;34m,\u001b[0m \u001b[0mcur_boundaries\u001b[0m\u001b[0;34m)\u001b[0m\u001b[0;34m\u001b[0m\u001b[0;34m\u001b[0m\u001b[0m\n\u001b[1;32m     89\u001b[0m     \u001b[0;32mreturn\u001b[0m \u001b[0mcur_boundaries\u001b[0m\u001b[0;34m\u001b[0m\u001b[0;34m\u001b[0m\u001b[0m\n",
            "\u001b[0;32m<ipython-input-58-4bc6df93f7eb>\u001b[0m in \u001b[0;36mgibbs_samp_iter\u001b[0;34m(sentences, cur_boundaries, counts, s, BETA, GAMMA, n)\u001b[0m\n\u001b[1;32m     62\u001b[0m         \u001b[0;32mfor\u001b[0m \u001b[0mb_ix\u001b[0m \u001b[0;32min\u001b[0m \u001b[0mrange\u001b[0m\u001b[0;34m(\u001b[0m\u001b[0mlen\u001b[0m\u001b[0;34m(\u001b[0m\u001b[0msentences\u001b[0m\u001b[0;34m[\u001b[0m\u001b[0ms_ix\u001b[0m\u001b[0;34m]\u001b[0m\u001b[0;34m)\u001b[0m \u001b[0;34m-\u001b[0m \u001b[0;36m1\u001b[0m\u001b[0;34m)\u001b[0m\u001b[0;34m:\u001b[0m\u001b[0;34m\u001b[0m\u001b[0;34m\u001b[0m\u001b[0m\n\u001b[1;32m     63\u001b[0m             ct, cur_boundaries = choose_new_value(sentences, cur_boundaries, \n\u001b[0;32m---> 64\u001b[0;31m                          counts, s_ix, b_ix, s, BETA, GAMMA)\n\u001b[0m\u001b[1;32m     65\u001b[0m             \u001b[0mnbc\u001b[0m \u001b[0;34m+=\u001b[0m \u001b[0mct\u001b[0m\u001b[0;34m\u001b[0m\u001b[0;34m\u001b[0m\u001b[0m\n\u001b[1;32m     66\u001b[0m     \u001b[0mprint\u001b[0m\u001b[0;34m(\u001b[0m\u001b[0;34mf'finished iteration {n}'\u001b[0m\u001b[0;34m)\u001b[0m\u001b[0;34m\u001b[0m\u001b[0;34m\u001b[0m\u001b[0m\n",
            "\u001b[0;32m<ipython-input-58-4bc6df93f7eb>\u001b[0m in \u001b[0;36mchoose_new_value\u001b[0;34m(sentences, boundaries, counts, s_ix, b_ix, s, BETA, GAMMA)\u001b[0m\n\u001b[1;32m     34\u001b[0m \u001b[0;34m\u001b[0m\u001b[0m\n\u001b[1;32m     35\u001b[0m     \u001b[0mp_bi_0\u001b[0m \u001b[0;34m=\u001b[0m \u001b[0;34m(\u001b[0m\u001b[0mn_y_full\u001b[0m \u001b[0;34m+\u001b[0m \u001b[0ms\u001b[0m\u001b[0;34m*\u001b[0m\u001b[0mG_0\u001b[0m\u001b[0;34m(\u001b[0m\u001b[0my_full\u001b[0m\u001b[0;34m,\u001b[0m \u001b[0mBETA\u001b[0m\u001b[0;34m)\u001b[0m\u001b[0;34m)\u001b[0m \u001b[0;34m/\u001b[0m \u001b[0;34m(\u001b[0m\u001b[0mn_y_total\u001b[0m \u001b[0;34m+\u001b[0m \u001b[0ms\u001b[0m\u001b[0;34m)\u001b[0m\u001b[0;34m\u001b[0m\u001b[0;34m\u001b[0m\u001b[0m\n\u001b[0;32m---> 36\u001b[0;31m     \u001b[0mp_bi_1\u001b[0m \u001b[0;34m=\u001b[0m \u001b[0;34m(\u001b[0m\u001b[0mn_y_prev\u001b[0m \u001b[0;34m+\u001b[0m \u001b[0ms\u001b[0m\u001b[0;34m*\u001b[0m\u001b[0mG_0\u001b[0m\u001b[0;34m(\u001b[0m\u001b[0my_prev\u001b[0m\u001b[0;34m,\u001b[0m \u001b[0mBETA\u001b[0m\u001b[0;34m)\u001b[0m\u001b[0;34m)\u001b[0m                \u001b[0;34m*\u001b[0m \u001b[0;34m(\u001b[0m\u001b[0;36m1\u001b[0m \u001b[0;34m-\u001b[0m \u001b[0mGAMMA\u001b[0m\u001b[0;34m)\u001b[0m                \u001b[0;34m*\u001b[0m \u001b[0;34m(\u001b[0m\u001b[0mn_y_next\u001b[0m \u001b[0;34m+\u001b[0m \u001b[0mint\u001b[0m\u001b[0;34m(\u001b[0m\u001b[0my_prev\u001b[0m \u001b[0;34m==\u001b[0m \u001b[0my_next\u001b[0m\u001b[0;34m)\u001b[0m \u001b[0;34m+\u001b[0m \u001b[0ms\u001b[0m\u001b[0;34m*\u001b[0m\u001b[0mG_0\u001b[0m\u001b[0;34m(\u001b[0m\u001b[0my_next\u001b[0m\u001b[0;34m,\u001b[0m \u001b[0mBETA\u001b[0m\u001b[0;34m)\u001b[0m\u001b[0;34m)\u001b[0m                \u001b[0;34m/\u001b[0m \u001b[0;34m(\u001b[0m\u001b[0;34m(\u001b[0m\u001b[0mn_y_total\u001b[0m \u001b[0;34m+\u001b[0m \u001b[0ms\u001b[0m\u001b[0;34m)\u001b[0m \u001b[0;34m*\u001b[0m \u001b[0;34m(\u001b[0m\u001b[0mn_y_total\u001b[0m \u001b[0;34m+\u001b[0m \u001b[0;36m1\u001b[0m \u001b[0;34m+\u001b[0m \u001b[0ms\u001b[0m\u001b[0;34m)\u001b[0m\u001b[0;34m)\u001b[0m\u001b[0;34m\u001b[0m\u001b[0;34m\u001b[0m\u001b[0m\n\u001b[0m\u001b[1;32m     37\u001b[0m \u001b[0;34m\u001b[0m\u001b[0m\n\u001b[1;32m     38\u001b[0m \u001b[0;34m\u001b[0m\u001b[0m\n",
            "\u001b[0;32m<ipython-input-44-9e8c2eaf0920>\u001b[0m in \u001b[0;36mG_0\u001b[0;34m(y, BETA)\u001b[0m\n\u001b[1;32m      8\u001b[0m \u001b[0;32mdef\u001b[0m \u001b[0mG_0\u001b[0m\u001b[0;34m(\u001b[0m\u001b[0my\u001b[0m\u001b[0;34m,\u001b[0m \u001b[0mBETA\u001b[0m\u001b[0;34m)\u001b[0m\u001b[0;34m:\u001b[0m\u001b[0;34m\u001b[0m\u001b[0;34m\u001b[0m\u001b[0m\n\u001b[1;32m      9\u001b[0m     \u001b[0;32mglobal\u001b[0m \u001b[0mchar_probs\u001b[0m\u001b[0;34m\u001b[0m\u001b[0;34m\u001b[0m\u001b[0m\n\u001b[0;32m---> 10\u001b[0;31m     \u001b[0;32mif\u001b[0m \u001b[0;34m(\u001b[0m\u001b[0my\u001b[0m\u001b[0;34m,\u001b[0m \u001b[0mBETA\u001b[0m\u001b[0;34m)\u001b[0m \u001b[0;32min\u001b[0m \u001b[0mG_0_memo\u001b[0m\u001b[0;34m:\u001b[0m\u001b[0;34m\u001b[0m\u001b[0;34m\u001b[0m\u001b[0m\n\u001b[0m\u001b[1;32m     11\u001b[0m         \u001b[0;32mreturn\u001b[0m \u001b[0mG_0_memo\u001b[0m\u001b[0;34m[\u001b[0m\u001b[0;34m(\u001b[0m\u001b[0my\u001b[0m\u001b[0;34m,\u001b[0m \u001b[0mBETA\u001b[0m\u001b[0;34m)\u001b[0m\u001b[0;34m]\u001b[0m\u001b[0;34m\u001b[0m\u001b[0;34m\u001b[0m\u001b[0m\n\u001b[1;32m     12\u001b[0m     \u001b[0mret\u001b[0m \u001b[0;34m=\u001b[0m \u001b[0;34m(\u001b[0m\u001b[0;36m1\u001b[0m\u001b[0;34m-\u001b[0m\u001b[0mBETA\u001b[0m\u001b[0;34m)\u001b[0m\u001b[0;34m**\u001b[0m\u001b[0;34m(\u001b[0m\u001b[0mlen\u001b[0m\u001b[0;34m(\u001b[0m\u001b[0my\u001b[0m\u001b[0;34m)\u001b[0m \u001b[0;34m-\u001b[0m \u001b[0;36m1\u001b[0m\u001b[0;34m)\u001b[0m \u001b[0;34m*\u001b[0m \u001b[0mBETA\u001b[0m\u001b[0;34m\u001b[0m\u001b[0;34m\u001b[0m\u001b[0m\n",
            "\u001b[0;31mKeyboardInterrupt\u001b[0m: "
          ]
        }
      ]
    },
    {
      "cell_type": "markdown",
      "metadata": {
        "id": "2FRH0eY5de3W"
      },
      "source": [
        "## 2. Experimentation"
      ]
    },
    {
      "cell_type": "markdown",
      "metadata": {
        "id": "ihTqwSs9di0V"
      },
      "source": [
        "### a. Changing hyperparameters"
      ]
    },
    {
      "cell_type": "code",
      "metadata": {
        "id": "yla2Vvund4iI",
        "outputId": "6b5c8e6c-15e5-499b-df36-31506af9d0e5",
        "colab": {
          "base_uri": "https://localhost:8080/",
          "height": 6614
        }
      },
      "source": [
        "from tqdm import tqdm\n",
        "import itertools\n",
        "\n",
        "GAMMA_LIST = [0.1, 0.2, 0.3]\n",
        "BETA_LIST = [0.1, 0.2, 0.5]\n",
        "s_LIST = [0.1, 0.2, 0.5, 1]\n",
        "\n",
        "for s, BETA, GAMMA in tqdm(list(itertools.product(s_LIST, BETA_LIST, GAMMA_LIST))):\n",
        "    gibbs_train(sentences, gs_boundaries, s, BETA, GAMMA)\n",
        "\n",
        "print(final_bpa_hypers)\n",
        "# everything seemed to bes"
      ],
      "execution_count": null,
      "outputs": [
        {
          "output_type": "stream",
          "text": [
            "\n",
            "\n",
            "  0%|          | 0/36 [00:00<?, ?it/s]\u001b[A\u001b[A"
          ],
          "name": "stderr"
        },
        {
          "output_type": "stream",
          "text": [
            "finished iteration 1\n",
            "    BPA: 0.7308264616863254\n",
            "    NBC: 96607\n",
            "finished iteration 2\n",
            "    BPA: 0.7308286166520668\n",
            "    NBC: 382\n",
            "finished iteration 3\n",
            "    BPA: 0.7308480113437397\n",
            "    NBC: 376\n",
            "finished iteration 4\n",
            "    BPA: 0.7308329265835496\n",
            "    NBC: 394\n",
            "finished iteration 5\n",
            "    BPA: 0.7308458563779983\n",
            "    NBC: 384\n"
          ],
          "name": "stdout"
        },
        {
          "output_type": "stream",
          "text": [
            "\n",
            "\n",
            "  3%|▎         | 1/36 [01:22<48:08, 82.53s/it]\u001b[A\u001b[A"
          ],
          "name": "stderr"
        },
        {
          "output_type": "stream",
          "text": [
            "finished iteration 1\n",
            "    BPA: 0.7324685455812966\n",
            "    NBC: 186280\n",
            "finished iteration 2\n",
            "    BPA: 0.7324793204100037\n",
            "    NBC: 98\n",
            "finished iteration 3\n",
            "    BPA: 0.7324857853072281\n",
            "    NBC: 96\n",
            "finished iteration 4\n",
            "    BPA: 0.7324900952387109\n",
            "    NBC: 94\n",
            "finished iteration 5\n",
            "    BPA: 0.732478242927133\n",
            "    NBC: 75\n"
          ],
          "name": "stdout"
        },
        {
          "output_type": "stream",
          "text": [
            "\n",
            "\n",
            "  6%|▌         | 2/36 [02:44<46:44, 82.48s/it]\u001b[A\u001b[A"
          ],
          "name": "stderr"
        },
        {
          "output_type": "stream",
          "text": [
            "finished iteration 1\n",
            "    BPA: 0.7326700348781205\n",
            "    NBC: 278603\n",
            "finished iteration 2\n",
            "    BPA: 0.732672189843862\n",
            "    NBC: 46\n",
            "finished iteration 3\n",
            "    BPA: 0.7326786547410863\n",
            "    NBC: 64\n",
            "finished iteration 4\n",
            "    BPA: 0.7326624924980255\n",
            "    NBC: 59\n",
            "finished iteration 5\n",
            "    BPA: 0.7326764997753448\n",
            "    NBC: 59\n"
          ],
          "name": "stdout"
        },
        {
          "output_type": "stream",
          "text": [
            "\n",
            "\n",
            "  8%|▊         | 3/36 [04:07<45:20, 82.43s/it]\u001b[A\u001b[A"
          ],
          "name": "stderr"
        },
        {
          "output_type": "stream",
          "text": [
            "finished iteration 1\n",
            "    BPA: 0.7305452386570684\n",
            "    NBC: 97326\n",
            "finished iteration 2\n",
            "    BPA: 0.7305829505575435\n",
            "    NBC: 399\n",
            "finished iteration 3\n",
            "    BPA: 0.7305667883144827\n",
            "    NBC: 401\n",
            "finished iteration 4\n",
            "    BPA: 0.7305969578348628\n",
            "    NBC: 430\n",
            "finished iteration 5\n",
            "    BPA: 0.7305538585200342\n",
            "    NBC: 396\n"
          ],
          "name": "stdout"
        },
        {
          "output_type": "stream",
          "text": [
            "\n",
            "\n",
            " 11%|█         | 4/36 [05:42<46:01, 86.28s/it]\u001b[A\u001b[A"
          ],
          "name": "stderr"
        },
        {
          "output_type": "stream",
          "text": [
            "finished iteration 1\n",
            "    BPA: 0.7323866568831222\n",
            "    NBC: 186555\n",
            "finished iteration 2\n",
            "    BPA: 0.7323931217803465\n",
            "    NBC: 134\n",
            "finished iteration 3\n",
            "    BPA: 0.7323920442974757\n",
            "    NBC: 125\n",
            "finished iteration 4\n",
            "    BPA: 0.7323812694687686\n",
            "    NBC: 138\n",
            "finished iteration 5\n",
            "    BPA: 0.7323834244345101\n",
            "    NBC: 140\n"
          ],
          "name": "stdout"
        },
        {
          "output_type": "stream",
          "text": [
            "\n",
            "\n",
            " 14%|█▍        | 5/36 [07:05<44:06, 85.37s/it]\u001b[A\u001b[A"
          ],
          "name": "stderr"
        },
        {
          "output_type": "stream",
          "text": [
            "finished iteration 1\n",
            "    BPA: 0.7326560276008012\n",
            "    NBC: 279441\n",
            "finished iteration 2\n",
            "    BPA: 0.732645252772094\n",
            "    NBC: 62\n",
            "finished iteration 3\n",
            "    BPA: 0.7326549501179305\n",
            "    NBC: 69\n",
            "finished iteration 4\n",
            "    BPA: 0.7326366329091283\n",
            "    NBC: 73\n",
            "finished iteration 5\n",
            "    BPA: 0.7326409428406112\n",
            "    NBC: 74\n"
          ],
          "name": "stdout"
        },
        {
          "output_type": "stream",
          "text": [
            "\n",
            "\n",
            " 17%|█▋        | 6/36 [08:29<42:22, 84.75s/it]\u001b[A\u001b[A"
          ],
          "name": "stderr"
        },
        {
          "output_type": "stream",
          "text": [
            "finished iteration 1\n",
            "    BPA: 0.7306863889131322\n",
            "    NBC: 97311\n",
            "finished iteration 2\n",
            "    BPA: 0.7306863889131322\n",
            "    NBC: 310\n",
            "finished iteration 3\n",
            "    BPA: 0.7307036286390637\n",
            "    NBC: 326\n",
            "finished iteration 4\n",
            "    BPA: 0.7306971637418395\n",
            "    NBC: 338\n",
            "finished iteration 5\n",
            "    BPA: 0.7306939312932272\n",
            "    NBC: 321\n"
          ],
          "name": "stdout"
        },
        {
          "output_type": "stream",
          "text": [
            "\n",
            "\n",
            " 19%|█▉        | 7/36 [09:50<40:32, 83.89s/it]\u001b[A\u001b[A"
          ],
          "name": "stderr"
        },
        {
          "output_type": "stream",
          "text": [
            "finished iteration 1\n",
            "    BPA: 0.7325148773447374\n",
            "    NBC: 186676\n",
            "finished iteration 2\n",
            "    BPA: 0.732505179998901\n",
            "    NBC: 93\n",
            "finished iteration 3\n",
            "    BPA: 0.7325084124475131\n",
            "    NBC: 97\n",
            "finished iteration 4\n",
            "    BPA: 0.7324976376188059\n",
            "    NBC: 118\n",
            "finished iteration 5\n",
            "    BPA: 0.7325084124475131\n",
            "    NBC: 104\n"
          ],
          "name": "stdout"
        },
        {
          "output_type": "stream",
          "text": [
            "\n",
            "\n",
            " 22%|██▏       | 8/36 [11:12<38:53, 83.34s/it]\u001b[A\u001b[A"
          ],
          "name": "stderr"
        },
        {
          "output_type": "stream",
          "text": [
            "finished iteration 1\n",
            "    BPA: 0.7327002043985006\n",
            "    NBC: 279151\n",
            "finished iteration 2\n",
            "    BPA: 0.732694816984147\n",
            "    NBC: 33\n",
            "finished iteration 3\n",
            "    BPA: 0.7326905070526641\n",
            "    NBC: 30\n",
            "finished iteration 4\n",
            "    BPA: 0.7327002043985006\n",
            "    NBC: 37\n",
            "finished iteration 5\n",
            "    BPA: 0.7326969719498885\n",
            "    NBC: 31\n"
          ],
          "name": "stdout"
        },
        {
          "output_type": "stream",
          "text": [
            "\n",
            "\n",
            " 25%|██▌       | 9/36 [12:35<37:22, 83.07s/it]\u001b[A\u001b[A"
          ],
          "name": "stderr"
        },
        {
          "output_type": "stream",
          "text": [
            "finished iteration 1\n",
            "    BPA: 0.7303362069801496\n",
            "    NBC: 97379\n",
            "finished iteration 2\n",
            "    BPA: 0.7303211222199595\n",
            "    NBC: 436\n",
            "finished iteration 3\n",
            "    BPA: 0.7303135798398644\n",
            "    NBC: 441\n",
            "finished iteration 4\n",
            "    BPA: 0.7303415943945031\n",
            "    NBC: 458\n",
            "finished iteration 5\n",
            "    BPA: 0.7303308195657959\n",
            "    NBC: 450\n"
          ],
          "name": "stdout"
        },
        {
          "output_type": "stream",
          "text": [
            "\n",
            "\n",
            " 28%|██▊       | 10/36 [13:57<35:52, 82.78s/it]\u001b[A\u001b[A"
          ],
          "name": "stderr"
        },
        {
          "output_type": "stream",
          "text": [
            "finished iteration 1\n",
            "    BPA: 0.7325267296563153\n",
            "    NBC: 185827\n",
            "finished iteration 2\n",
            "    BPA: 0.7325299621049275\n",
            "    NBC: 73\n",
            "finished iteration 3\n",
            "    BPA: 0.7325267296563153\n",
            "    NBC: 69\n",
            "finished iteration 4\n",
            "    BPA: 0.732535349519281\n",
            "    NBC: 64\n",
            "finished iteration 5\n",
            "    BPA: 0.732535349519281\n",
            "    NBC: 64\n"
          ],
          "name": "stdout"
        },
        {
          "output_type": "stream",
          "text": [
            "\n",
            "\n",
            " 31%|███       | 11/36 [15:19<34:26, 82.68s/it]\u001b[A\u001b[A"
          ],
          "name": "stderr"
        },
        {
          "output_type": "stream",
          "text": [
            "finished iteration 1\n",
            "    BPA: 0.7326678799123791\n",
            "    NBC: 278641\n",
            "finished iteration 2\n",
            "    BPA: 0.7326711123609913\n",
            "    NBC: 47\n",
            "finished iteration 3\n",
            "    BPA: 0.7326764997753448\n",
            "    NBC: 51\n",
            "finished iteration 4\n",
            "    BPA: 0.7326624924980255\n",
            "    NBC: 43\n",
            "finished iteration 5\n",
            "    BPA: 0.7326743448096034\n",
            "    NBC: 39\n"
          ],
          "name": "stdout"
        },
        {
          "output_type": "stream",
          "text": [
            "\n",
            "\n",
            " 33%|███▎      | 12/36 [16:42<33:01, 82.57s/it]\u001b[A\u001b[A"
          ],
          "name": "stderr"
        },
        {
          "output_type": "stream",
          "text": [
            "finished iteration 1\n",
            "    BPA: 0.730869561001154\n",
            "    NBC: 97053\n",
            "finished iteration 2\n",
            "    BPA: 0.7308727934497661\n",
            "    NBC: 377\n",
            "finished iteration 3\n",
            "    BPA: 0.7308900331756976\n",
            "    NBC: 384\n",
            "finished iteration 4\n",
            "    BPA: 0.7308986530386633\n",
            "    NBC: 378\n",
            "finished iteration 5\n",
            "    BPA: 0.7308706384840247\n",
            "    NBC: 380\n"
          ],
          "name": "stdout"
        },
        {
          "output_type": "stream",
          "text": [
            "\n",
            "\n",
            " 36%|███▌      | 13/36 [18:05<31:41, 82.65s/it]\u001b[A\u001b[A"
          ],
          "name": "stderr"
        },
        {
          "output_type": "stream",
          "text": [
            "finished iteration 1\n",
            "    BPA: 0.7324836303414867\n",
            "    NBC: 186383\n",
            "finished iteration 2\n",
            "    BPA: 0.7324760879613916\n",
            "    NBC: 101\n",
            "finished iteration 3\n",
            "    BPA: 0.7324836303414867\n",
            "    NBC: 93\n",
            "finished iteration 4\n",
            "    BPA: 0.7324750104785209\n",
            "    NBC: 94\n",
            "finished iteration 5\n",
            "    BPA: 0.7324965601359352\n",
            "    NBC: 104\n"
          ],
          "name": "stdout"
        },
        {
          "output_type": "stream",
          "text": [
            "\n",
            "\n",
            " 39%|███▉      | 14/36 [19:28<30:23, 82.89s/it]\u001b[A\u001b[A"
          ],
          "name": "stderr"
        },
        {
          "output_type": "stream",
          "text": [
            "finished iteration 1\n",
            "    BPA: 0.7326980494327592\n",
            "    NBC: 278260\n",
            "finished iteration 2\n",
            "    BPA: 0.7326958944670177\n",
            "    NBC: 50\n",
            "finished iteration 3\n",
            "    BPA: 0.7327034368471127\n",
            "    NBC: 53\n",
            "finished iteration 4\n",
            "    BPA: 0.7327012818813713\n",
            "    NBC: 46\n",
            "finished iteration 5\n",
            "    BPA: 0.7326991269156299\n",
            "    NBC: 50\n"
          ],
          "name": "stdout"
        },
        {
          "output_type": "stream",
          "text": [
            "\n",
            "\n",
            " 42%|████▏     | 15/36 [20:51<29:03, 83.01s/it]\u001b[A\u001b[A"
          ],
          "name": "stderr"
        },
        {
          "output_type": "stream",
          "text": [
            "finished iteration 1\n",
            "    BPA: 0.730869561001154\n",
            "    NBC: 96540\n",
            "finished iteration 2\n",
            "    BPA: 0.7308480113437397\n",
            "    NBC: 376\n",
            "finished iteration 3\n",
            "    BPA: 0.7308447788951276\n",
            "    NBC: 371\n",
            "finished iteration 4\n",
            "    BPA: 0.7308598636553175\n",
            "    NBC: 356\n",
            "finished iteration 5\n",
            "    BPA: 0.730846933860869\n",
            "    NBC: 382\n"
          ],
          "name": "stdout"
        },
        {
          "output_type": "stream",
          "text": [
            "\n",
            "\n",
            " 44%|████▍     | 16/36 [22:13<27:32, 82.62s/it]\u001b[A\u001b[A"
          ],
          "name": "stderr"
        },
        {
          "output_type": "stream",
          "text": [
            "finished iteration 1\n",
            "    BPA: 0.7325482793137296\n",
            "    NBC: 185955\n",
            "finished iteration 2\n",
            "    BPA: 0.7325439693822468\n",
            "    NBC: 102\n",
            "finished iteration 3\n",
            "    BPA: 0.7325493567966003\n",
            "    NBC: 103\n",
            "finished iteration 4\n",
            "    BPA: 0.7325536667280832\n",
            "    NBC: 86\n",
            "finished iteration 5\n",
            "    BPA: 0.7325418144165053\n",
            "    NBC: 109\n"
          ],
          "name": "stdout"
        },
        {
          "output_type": "stream",
          "text": [
            "\n",
            "\n",
            " 47%|████▋     | 17/36 [23:35<26:07, 82.52s/it]\u001b[A\u001b[A"
          ],
          "name": "stderr"
        },
        {
          "output_type": "stream",
          "text": [
            "finished iteration 1\n",
            "    BPA: 0.7327131341929491\n",
            "    NBC: 278627\n",
            "finished iteration 2\n",
            "    BPA: 0.7327152891586906\n",
            "    NBC: 32\n",
            "finished iteration 3\n",
            "    BPA: 0.7327174441244321\n",
            "    NBC: 38\n",
            "finished iteration 4\n",
            "    BPA: 0.7327142116758198\n",
            "    NBC: 39\n",
            "finished iteration 5\n",
            "    BPA: 0.7327228315387856\n",
            "    NBC: 40\n"
          ],
          "name": "stdout"
        },
        {
          "output_type": "stream",
          "text": [
            "\n",
            "\n",
            " 50%|█████     | 18/36 [24:58<24:44, 82.49s/it]\u001b[A\u001b[A"
          ],
          "name": "stderr"
        },
        {
          "output_type": "stream",
          "text": [
            "finished iteration 1\n",
            "    BPA: 0.7307154809506415\n",
            "    NBC: 97234\n",
            "finished iteration 2\n",
            "    BPA: 0.7307111710191587\n",
            "    NBC: 384\n",
            "finished iteration 3\n",
            "    BPA: 0.7307284107450902\n",
            "    NBC: 380\n",
            "finished iteration 4\n",
            "    BPA: 0.7306982412247102\n",
            "    NBC: 400\n",
            "finished iteration 5\n",
            "    BPA: 0.7307047061219344\n",
            "    NBC: 348\n"
          ],
          "name": "stdout"
        },
        {
          "output_type": "stream",
          "text": [
            "\n",
            "\n",
            " 53%|█████▎    | 19/36 [26:20<23:20, 82.41s/it]\u001b[A\u001b[A"
          ],
          "name": "stderr"
        },
        {
          "output_type": "stream",
          "text": [
            "finished iteration 1\n",
            "    BPA: 0.7325094899303838\n",
            "    NBC: 186301\n",
            "finished iteration 2\n",
            "    BPA: 0.7324857853072281\n",
            "    NBC: 110\n",
            "finished iteration 3\n",
            "    BPA: 0.7324653131326845\n",
            "    NBC: 117\n",
            "finished iteration 4\n",
            "    BPA: 0.7324922502044524\n",
            "    NBC: 107\n",
            "finished iteration 5\n",
            "    BPA: 0.7324857853072281\n",
            "    NBC: 112\n"
          ],
          "name": "stdout"
        },
        {
          "output_type": "stream",
          "text": [
            "\n",
            "\n",
            " 56%|█████▌    | 20/36 [27:43<22:01, 82.59s/it]\u001b[A\u001b[A"
          ],
          "name": "stderr"
        },
        {
          "output_type": "stream",
          "text": [
            "finished iteration 1\n",
            "    BPA: 0.7326754222924741\n",
            "    NBC: 277592\n",
            "finished iteration 2\n",
            "    BPA: 0.7326668024295083\n",
            "    NBC: 48\n",
            "finished iteration 3\n",
            "    BPA: 0.7326754222924741\n",
            "    NBC: 48\n",
            "finished iteration 4\n",
            "    BPA: 0.7326754222924741\n",
            "    NBC: 42\n",
            "finished iteration 5\n",
            "    BPA: 0.7326732673267327\n",
            "    NBC: 50\n"
          ],
          "name": "stdout"
        },
        {
          "output_type": "stream",
          "text": [
            "\n",
            "\n",
            " 58%|█████▊    | 21/36 [29:06<20:38, 82.59s/it]\u001b[A\u001b[A"
          ],
          "name": "stderr"
        },
        {
          "output_type": "stream",
          "text": [
            "finished iteration 1\n",
            "    BPA: 0.7305980353177335\n",
            "    NBC: 97223\n",
            "finished iteration 2\n",
            "    BPA: 0.730565710831612\n",
            "    NBC: 478\n",
            "finished iteration 3\n",
            "    BPA: 0.7305840280404142\n",
            "    NBC: 449\n",
            "finished iteration 4\n",
            "    BPA: 0.7306055776978285\n",
            "    NBC: 420\n",
            "finished iteration 5\n",
            "    BPA: 0.7305904929376386\n",
            "    NBC: 428\n"
          ],
          "name": "stdout"
        },
        {
          "output_type": "stream",
          "text": [
            "\n",
            "\n",
            " 61%|██████    | 22/36 [30:28<19:17, 82.68s/it]\u001b[A\u001b[A"
          ],
          "name": "stderr"
        }
      ]
    }
  ]
}